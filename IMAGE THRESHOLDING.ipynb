{
 "cells": [
  {
   "cell_type": "markdown",
   "id": "1c3af361",
   "metadata": {},
   "source": [
    "# image thresholding"
   ]
  },
  {
   "cell_type": "code",
   "execution_count": 1,
   "id": "72b9341b",
   "metadata": {},
   "outputs": [],
   "source": [
    "import cv2\n",
    "import numpy"
   ]
  },
  {
   "cell_type": "code",
   "execution_count": 13,
   "id": "64010819",
   "metadata": {},
   "outputs": [],
   "source": [
    "im1=cv2.imread(\"C:/Users/SN124/image/ben 10.jfif\")"
   ]
  },
  {
   "cell_type": "code",
   "execution_count": 14,
   "id": "bfd562c4",
   "metadata": {},
   "outputs": [
    {
     "data": {
      "text/plain": [
       "array([[[ 72, 198, 186],\n",
       "        [ 72, 198, 186],\n",
       "        [ 71, 199, 187],\n",
       "        ...,\n",
       "        [ 63, 192, 161],\n",
       "        [ 62, 191, 160],\n",
       "        [ 62, 191, 160]],\n",
       "\n",
       "       [[ 72, 198, 186],\n",
       "        [ 72, 198, 186],\n",
       "        [ 71, 199, 187],\n",
       "        ...,\n",
       "        [ 63, 192, 161],\n",
       "        [ 62, 191, 160],\n",
       "        [ 62, 191, 160]],\n",
       "\n",
       "       [[ 72, 199, 184],\n",
       "        [ 72, 199, 184],\n",
       "        [ 71, 200, 185],\n",
       "        ...,\n",
       "        [ 63, 192, 161],\n",
       "        [ 62, 191, 160],\n",
       "        [ 62, 191, 160]],\n",
       "\n",
       "       ...,\n",
       "\n",
       "       [[  6,   0,   1],\n",
       "        [  6,   0,   1],\n",
       "        [  6,   0,   1],\n",
       "        ...,\n",
       "        [  6,   0,   1],\n",
       "        [  6,   0,   1],\n",
       "        [  6,   0,   1]],\n",
       "\n",
       "       [[  6,   0,   1],\n",
       "        [  6,   0,   1],\n",
       "        [  6,   0,   1],\n",
       "        ...,\n",
       "        [  6,   0,   1],\n",
       "        [  6,   0,   1],\n",
       "        [  6,   0,   1]],\n",
       "\n",
       "       [[  6,   0,   1],\n",
       "        [  6,   0,   1],\n",
       "        [  6,   0,   1],\n",
       "        ...,\n",
       "        [  6,   0,   1],\n",
       "        [  6,   0,   1],\n",
       "        [  6,   0,   1]]], dtype=uint8)"
      ]
     },
     "execution_count": 14,
     "metadata": {},
     "output_type": "execute_result"
    }
   ],
   "source": [
    "im1"
   ]
  },
  {
   "cell_type": "code",
   "execution_count": 16,
   "id": "a53b8353",
   "metadata": {},
   "outputs": [],
   "source": [
    "cv2.imshow(\"im1\",im1)\n",
    "cv2.waitKey(0)\n",
    "cv2.destroyAllWindows()"
   ]
  },
  {
   "cell_type": "code",
   "execution_count": 17,
   "id": "3510c255",
   "metadata": {},
   "outputs": [],
   "source": [
    "ret,thers1=cv2.threshold(im1,83,100,cv2.THRESH_BINARY)\n",
    "ret,thers2=cv2.threshold(im1,83,100,cv2.THRESH_BINARY_INV)\n",
    "ret,thers3=cv2.threshold(im1,83,100,cv2.THRESH_TRUNC)\n",
    "ret,thers4=cv2.threshold(im1,83,100,cv2.THRESH_TOZERO)\n",
    "ret,thers5=cv2.threshold(im1,83,100,cv2.THRESH_TOZERO_INV)"
   ]
  },
  {
   "cell_type": "code",
   "execution_count": 19,
   "id": "e69bb478",
   "metadata": {},
   "outputs": [
    {
     "data": {
      "text/plain": [
       "array([[[  0, 100, 100],\n",
       "        [  0, 100, 100],\n",
       "        [  0, 100, 100],\n",
       "        ...,\n",
       "        [  0, 100, 100],\n",
       "        [  0, 100, 100],\n",
       "        [  0, 100, 100]],\n",
       "\n",
       "       [[  0, 100, 100],\n",
       "        [  0, 100, 100],\n",
       "        [  0, 100, 100],\n",
       "        ...,\n",
       "        [  0, 100, 100],\n",
       "        [  0, 100, 100],\n",
       "        [  0, 100, 100]],\n",
       "\n",
       "       [[  0, 100, 100],\n",
       "        [  0, 100, 100],\n",
       "        [  0, 100, 100],\n",
       "        ...,\n",
       "        [  0, 100, 100],\n",
       "        [  0, 100, 100],\n",
       "        [  0, 100, 100]],\n",
       "\n",
       "       ...,\n",
       "\n",
       "       [[  0,   0,   0],\n",
       "        [  0,   0,   0],\n",
       "        [  0,   0,   0],\n",
       "        ...,\n",
       "        [  0,   0,   0],\n",
       "        [  0,   0,   0],\n",
       "        [  0,   0,   0]],\n",
       "\n",
       "       [[  0,   0,   0],\n",
       "        [  0,   0,   0],\n",
       "        [  0,   0,   0],\n",
       "        ...,\n",
       "        [  0,   0,   0],\n",
       "        [  0,   0,   0],\n",
       "        [  0,   0,   0]],\n",
       "\n",
       "       [[  0,   0,   0],\n",
       "        [  0,   0,   0],\n",
       "        [  0,   0,   0],\n",
       "        ...,\n",
       "        [  0,   0,   0],\n",
       "        [  0,   0,   0],\n",
       "        [  0,   0,   0]]], dtype=uint8)"
      ]
     },
     "execution_count": 19,
     "metadata": {},
     "output_type": "execute_result"
    }
   ],
   "source": [
    "thers1"
   ]
  },
  {
   "cell_type": "code",
   "execution_count": 21,
   "id": "a449da6f",
   "metadata": {},
   "outputs": [
    {
     "data": {
      "text/plain": [
       "array([[[100,   0,   0],\n",
       "        [100,   0,   0],\n",
       "        [100,   0,   0],\n",
       "        ...,\n",
       "        [100,   0,   0],\n",
       "        [100,   0,   0],\n",
       "        [100,   0,   0]],\n",
       "\n",
       "       [[100,   0,   0],\n",
       "        [100,   0,   0],\n",
       "        [100,   0,   0],\n",
       "        ...,\n",
       "        [100,   0,   0],\n",
       "        [100,   0,   0],\n",
       "        [100,   0,   0]],\n",
       "\n",
       "       [[100,   0,   0],\n",
       "        [100,   0,   0],\n",
       "        [100,   0,   0],\n",
       "        ...,\n",
       "        [100,   0,   0],\n",
       "        [100,   0,   0],\n",
       "        [100,   0,   0]],\n",
       "\n",
       "       ...,\n",
       "\n",
       "       [[100, 100, 100],\n",
       "        [100, 100, 100],\n",
       "        [100, 100, 100],\n",
       "        ...,\n",
       "        [100, 100, 100],\n",
       "        [100, 100, 100],\n",
       "        [100, 100, 100]],\n",
       "\n",
       "       [[100, 100, 100],\n",
       "        [100, 100, 100],\n",
       "        [100, 100, 100],\n",
       "        ...,\n",
       "        [100, 100, 100],\n",
       "        [100, 100, 100],\n",
       "        [100, 100, 100]],\n",
       "\n",
       "       [[100, 100, 100],\n",
       "        [100, 100, 100],\n",
       "        [100, 100, 100],\n",
       "        ...,\n",
       "        [100, 100, 100],\n",
       "        [100, 100, 100],\n",
       "        [100, 100, 100]]], dtype=uint8)"
      ]
     },
     "execution_count": 21,
     "metadata": {},
     "output_type": "execute_result"
    }
   ],
   "source": [
    "thers2"
   ]
  },
  {
   "cell_type": "code",
   "execution_count": 22,
   "id": "a48c8622",
   "metadata": {},
   "outputs": [
    {
     "data": {
      "text/plain": [
       "array([[[72, 83, 83],\n",
       "        [72, 83, 83],\n",
       "        [71, 83, 83],\n",
       "        ...,\n",
       "        [63, 83, 83],\n",
       "        [62, 83, 83],\n",
       "        [62, 83, 83]],\n",
       "\n",
       "       [[72, 83, 83],\n",
       "        [72, 83, 83],\n",
       "        [71, 83, 83],\n",
       "        ...,\n",
       "        [63, 83, 83],\n",
       "        [62, 83, 83],\n",
       "        [62, 83, 83]],\n",
       "\n",
       "       [[72, 83, 83],\n",
       "        [72, 83, 83],\n",
       "        [71, 83, 83],\n",
       "        ...,\n",
       "        [63, 83, 83],\n",
       "        [62, 83, 83],\n",
       "        [62, 83, 83]],\n",
       "\n",
       "       ...,\n",
       "\n",
       "       [[ 6,  0,  1],\n",
       "        [ 6,  0,  1],\n",
       "        [ 6,  0,  1],\n",
       "        ...,\n",
       "        [ 6,  0,  1],\n",
       "        [ 6,  0,  1],\n",
       "        [ 6,  0,  1]],\n",
       "\n",
       "       [[ 6,  0,  1],\n",
       "        [ 6,  0,  1],\n",
       "        [ 6,  0,  1],\n",
       "        ...,\n",
       "        [ 6,  0,  1],\n",
       "        [ 6,  0,  1],\n",
       "        [ 6,  0,  1]],\n",
       "\n",
       "       [[ 6,  0,  1],\n",
       "        [ 6,  0,  1],\n",
       "        [ 6,  0,  1],\n",
       "        ...,\n",
       "        [ 6,  0,  1],\n",
       "        [ 6,  0,  1],\n",
       "        [ 6,  0,  1]]], dtype=uint8)"
      ]
     },
     "execution_count": 22,
     "metadata": {},
     "output_type": "execute_result"
    }
   ],
   "source": [
    "thers3"
   ]
  },
  {
   "cell_type": "code",
   "execution_count": 23,
   "id": "8023d74c",
   "metadata": {},
   "outputs": [
    {
     "data": {
      "text/plain": [
       "array([[[  0, 198, 186],\n",
       "        [  0, 198, 186],\n",
       "        [  0, 199, 187],\n",
       "        ...,\n",
       "        [  0, 192, 161],\n",
       "        [  0, 191, 160],\n",
       "        [  0, 191, 160]],\n",
       "\n",
       "       [[  0, 198, 186],\n",
       "        [  0, 198, 186],\n",
       "        [  0, 199, 187],\n",
       "        ...,\n",
       "        [  0, 192, 161],\n",
       "        [  0, 191, 160],\n",
       "        [  0, 191, 160]],\n",
       "\n",
       "       [[  0, 199, 184],\n",
       "        [  0, 199, 184],\n",
       "        [  0, 200, 185],\n",
       "        ...,\n",
       "        [  0, 192, 161],\n",
       "        [  0, 191, 160],\n",
       "        [  0, 191, 160]],\n",
       "\n",
       "       ...,\n",
       "\n",
       "       [[  0,   0,   0],\n",
       "        [  0,   0,   0],\n",
       "        [  0,   0,   0],\n",
       "        ...,\n",
       "        [  0,   0,   0],\n",
       "        [  0,   0,   0],\n",
       "        [  0,   0,   0]],\n",
       "\n",
       "       [[  0,   0,   0],\n",
       "        [  0,   0,   0],\n",
       "        [  0,   0,   0],\n",
       "        ...,\n",
       "        [  0,   0,   0],\n",
       "        [  0,   0,   0],\n",
       "        [  0,   0,   0]],\n",
       "\n",
       "       [[  0,   0,   0],\n",
       "        [  0,   0,   0],\n",
       "        [  0,   0,   0],\n",
       "        ...,\n",
       "        [  0,   0,   0],\n",
       "        [  0,   0,   0],\n",
       "        [  0,   0,   0]]], dtype=uint8)"
      ]
     },
     "execution_count": 23,
     "metadata": {},
     "output_type": "execute_result"
    }
   ],
   "source": [
    "thers4"
   ]
  },
  {
   "cell_type": "code",
   "execution_count": 24,
   "id": "00c6ad20",
   "metadata": {},
   "outputs": [
    {
     "data": {
      "text/plain": [
       "array([[[72,  0,  0],\n",
       "        [72,  0,  0],\n",
       "        [71,  0,  0],\n",
       "        ...,\n",
       "        [63,  0,  0],\n",
       "        [62,  0,  0],\n",
       "        [62,  0,  0]],\n",
       "\n",
       "       [[72,  0,  0],\n",
       "        [72,  0,  0],\n",
       "        [71,  0,  0],\n",
       "        ...,\n",
       "        [63,  0,  0],\n",
       "        [62,  0,  0],\n",
       "        [62,  0,  0]],\n",
       "\n",
       "       [[72,  0,  0],\n",
       "        [72,  0,  0],\n",
       "        [71,  0,  0],\n",
       "        ...,\n",
       "        [63,  0,  0],\n",
       "        [62,  0,  0],\n",
       "        [62,  0,  0]],\n",
       "\n",
       "       ...,\n",
       "\n",
       "       [[ 6,  0,  1],\n",
       "        [ 6,  0,  1],\n",
       "        [ 6,  0,  1],\n",
       "        ...,\n",
       "        [ 6,  0,  1],\n",
       "        [ 6,  0,  1],\n",
       "        [ 6,  0,  1]],\n",
       "\n",
       "       [[ 6,  0,  1],\n",
       "        [ 6,  0,  1],\n",
       "        [ 6,  0,  1],\n",
       "        ...,\n",
       "        [ 6,  0,  1],\n",
       "        [ 6,  0,  1],\n",
       "        [ 6,  0,  1]],\n",
       "\n",
       "       [[ 6,  0,  1],\n",
       "        [ 6,  0,  1],\n",
       "        [ 6,  0,  1],\n",
       "        ...,\n",
       "        [ 6,  0,  1],\n",
       "        [ 6,  0,  1],\n",
       "        [ 6,  0,  1]]], dtype=uint8)"
      ]
     },
     "execution_count": 24,
     "metadata": {},
     "output_type": "execute_result"
    }
   ],
   "source": [
    "thers5"
   ]
  },
  {
   "cell_type": "code",
   "execution_count": 25,
   "id": "28664931",
   "metadata": {},
   "outputs": [
    {
     "name": "stdout",
     "output_type": "stream",
     "text": [
      "83.0\n"
     ]
    }
   ],
   "source": [
    "print(ret)"
   ]
  },
  {
   "cell_type": "code",
   "execution_count": 29,
   "id": "31f33816",
   "metadata": {},
   "outputs": [
    {
     "ename": "NameError",
     "evalue": "name 'thres1' is not defined",
     "output_type": "error",
     "traceback": [
      "\u001b[1;31m---------------------------------------------------------------------------\u001b[0m",
      "\u001b[1;31mNameError\u001b[0m                                 Traceback (most recent call last)",
      "Input \u001b[1;32mIn [29]\u001b[0m, in \u001b[0;36m<cell line: 1>\u001b[1;34m()\u001b[0m\n\u001b[1;32m----> 1\u001b[0m cv2\u001b[38;5;241m.\u001b[39mimshow(\u001b[38;5;124m\"\u001b[39m\u001b[38;5;124mThers_img1\u001b[39m\u001b[38;5;124m\"\u001b[39m,\u001b[43mthres1\u001b[49m)\n\u001b[0;32m      2\u001b[0m cv2\u001b[38;5;241m.\u001b[39mimshow(\u001b[38;5;124m\"\u001b[39m\u001b[38;5;124mThers_img2\u001b[39m\u001b[38;5;124m\"\u001b[39m,thres2)\n\u001b[0;32m      3\u001b[0m cv2\u001b[38;5;241m.\u001b[39mimshow(\u001b[38;5;124m\"\u001b[39m\u001b[38;5;124mThers_img3\u001b[39m\u001b[38;5;124m\"\u001b[39m,thres3)\n",
      "\u001b[1;31mNameError\u001b[0m: name 'thres1' is not defined"
     ]
    }
   ],
   "source": [
    "cv2.imshow(\"Thers_img1\",thers1)\n",
    "cv2.imshow(\"Thers_img2\",thers2)\n",
    "cv2.imshow(\"Thers_img3\",thers3)\n",
    "cv2.imshow(\"Thers_img4\",thres4)\n",
    "cv2.imshow(\"Thers_img5\",thres5)\n",
    "cv2.waitKey(0)\n",
    "cv2.destroyAllWindows()"
   ]
  },
  {
   "cell_type": "code",
   "execution_count": null,
   "id": "7e3f1c37",
   "metadata": {},
   "outputs": [],
   "source": []
  }
 ],
 "metadata": {
  "kernelspec": {
   "display_name": "Python 3 (ipykernel)",
   "language": "python",
   "name": "python3"
  },
  "language_info": {
   "codemirror_mode": {
    "name": "ipython",
    "version": 3
   },
   "file_extension": ".py",
   "mimetype": "text/x-python",
   "name": "python",
   "nbconvert_exporter": "python",
   "pygments_lexer": "ipython3",
   "version": "3.9.12"
  }
 },
 "nbformat": 4,
 "nbformat_minor": 5
}
